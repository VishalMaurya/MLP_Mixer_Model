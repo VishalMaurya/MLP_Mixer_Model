{
  "nbformat": 4,
  "nbformat_minor": 0,
  "metadata": {
    "colab": {
      "name": "MLP-Mixer: Architecture.ipynb",
      "provenance": [],
      "authorship_tag": "ABX9TyO/af7zb5Psp/ib0PapaPqj",
      "include_colab_link": true
    },
    "kernelspec": {
      "name": "python3",
      "display_name": "Python 3"
    },
    "language_info": {
      "name": "python"
    }
  },
  "cells": [
    {
      "cell_type": "markdown",
      "metadata": {
        "id": "view-in-github",
        "colab_type": "text"
      },
      "source": [
        "<a href=\"https://colab.research.google.com/github/VishalMaurya/MLP_Mixer_Model/blob/main/MLP_Mixer_Architecture.ipynb\" target=\"_parent\"><img src=\"https://colab.research.google.com/assets/colab-badge.svg\" alt=\"Open In Colab\"/></a>"
      ]
    },
    {
      "cell_type": "code",
      "metadata": {
        "id": "b9ZBvRdBcn4u"
      },
      "source": [
        "import tensorflow as tf"
      ],
      "execution_count": 1,
      "outputs": []
    },
    {
      "cell_type": "code",
      "metadata": {
        "id": "zcfLo0WueU-X"
      },
      "source": [
        "# MLP function\n",
        "def mlp(x, hidden_dims ):\n",
        "    y = tf.keras.layers.Dense( hidden_dims )( x )\n",
        "    y = tf.nn.gelu( y )\n",
        "    y = tf.keras.layers.Dense( x.shape[-1] )( y )\n",
        "\n",
        "    # extra experiment\n",
        "    y = tf.keras.layers.Dropout(0.3)( y )\n",
        "\n",
        "    return y "
      ],
      "execution_count": 2,
      "outputs": []
    },
    {
      "cell_type": "code",
      "metadata": {
        "id": "AI5o1C_8rLwr"
      },
      "source": [
        "# token mixing function\n",
        "def token_mixing( x, token_mixing_mlp_dims):\n",
        "    x = tf.keras.layers.LayerNormalization( epsilon=1e-6 )( x )\n",
        "    x = tf.keras.layers.Permute( dims=[2,1])( x )\n",
        "\n",
        "    x = mlp(x, token_mixing_mlp_dims)\n",
        "\n",
        "    return x\n",
        "\n",
        "def channel_mixing( x, channel_mixing_mlp_dims):\n",
        "    x = tf.keras.layers.LayerNormalization( epsilon=1e-6 )( x )\n",
        "    x = mlp( x, channel_mixing_mlp_dims)\n",
        "    return x"
      ],
      "execution_count": 3,
      "outputs": []
    },
    {
      "cell_type": "markdown",
      "metadata": {
        "id": "MPnqtoo4rLbb"
      },
      "source": [
        ""
      ]
    },
    {
      "cell_type": "code",
      "metadata": {
        "id": "Nc6UZ10qfVbY"
      },
      "source": [
        "# Mixer function, it is consist of token-mixing and channel-mixing MLPS\n",
        "\n",
        "def mixer( x, token_mixing_mlp_dims, channel_mixing_mlp_dims ):\n",
        "    \"\"\"\n",
        "    shape of x: ( batch_size, num_patches, channels)\n",
        "    \"\"\"\n",
        "\n",
        "    # token_mixing MLP\n",
        "    token_mixing_out = token_mixing( x, token_mixing_mlp_dims)\n",
        "    # Transpose\n",
        "    token_mixing_out = tf.keras.layers.Permute(dims = [ 2,1] )( token_mixing_out)\n",
        "    # Skip connection\n",
        "    token_mixing_out = tf.keras.layers.Add()( [ x, token_mixing_out] ) \n",
        "    # channel_mixing MLP\n",
        "    channel_mixing_out = channel_mixing( token_mixing_out, channel_mixing_mlp_dims)\n",
        "    # Skip connection\n",
        "    channel_mixing_out = tf.keras.layers.Add()( [ channel_mixing_out, token_mixing_out] )\n",
        "\n",
        "    return channel_mixing_out\n",
        "\n"
      ],
      "execution_count": 4,
      "outputs": []
    },
    {
      "cell_type": "code",
      "metadata": {
        "colab": {
          "base_uri": "https://localhost:8080/"
        },
        "id": "v6wE1MH2sYhB",
        "outputId": "2ef649d6-cdd1-43e6-e930-2493219f4b9d"
      },
      "source": [
        "# Creating input constants and model\n",
        "\n",
        "input_image_shape = ( 32, 32, 3)\n",
        "hidden_dims = 128\n",
        "num_classes = 10\n",
        "patch_size = 9\n",
        "num_mixer_layers = 4\n",
        "token_mixing_mlp_dims = 64\n",
        "channel_mixing_mlp_dims = 128\n",
        "\n",
        "# Input layer\n",
        "inputs = tf.keras.layers.Input( shape=input_image_shape)\n",
        "# Conv2D to extract patches\n",
        "patches = tf.keras.layers.Conv2D( hidden_dims, kernel_size=patch_size, strides=patch_size)( inputs)\n",
        "# Resizing the patches\n",
        "patches_reshape = tf.keras.layers.Reshape( (patches.shape[1]*patches.shape[2], patches.shape[3]) )( patches)\n",
        "\n",
        "x = patches_reshape\n",
        "# create Mixer layers\n",
        "for _ in range(num_mixer_layers):\n",
        "    x = mixer(x, token_mixing_mlp_dims, channel_mixing_mlp_dims)\n",
        "\n",
        "# classifier head\n",
        "x = tf.keras.layers.LayerNormalization( epsilon=1e-6)( x )\n",
        "x = tf.keras.layers.GlobalAveragePooling1D()( x )\n",
        "outputs = tf.keras.layers.Dense( num_classes, activation='softmax')(x)\n",
        "\n",
        "# create model object\n",
        "model = tf.keras.models.Model( inputs, outputs)\n",
        "model.summary()"
      ],
      "execution_count": 6,
      "outputs": [
        {
          "output_type": "stream",
          "text": [
            "Model: \"model\"\n",
            "__________________________________________________________________________________________________\n",
            "Layer (type)                    Output Shape         Param #     Connected to                     \n",
            "==================================================================================================\n",
            "input_2 (InputLayer)            [(None, 32, 32, 3)]  0                                            \n",
            "__________________________________________________________________________________________________\n",
            "conv2d_1 (Conv2D)               (None, 3, 3, 128)    31232       input_2[0][0]                    \n",
            "__________________________________________________________________________________________________\n",
            "reshape (Reshape)               (None, 9, 128)       0           conv2d_1[0][0]                   \n",
            "__________________________________________________________________________________________________\n",
            "layer_normalization (LayerNorma (None, 9, 128)       256         reshape[0][0]                    \n",
            "__________________________________________________________________________________________________\n",
            "permute (Permute)               (None, 128, 9)       0           layer_normalization[0][0]        \n",
            "__________________________________________________________________________________________________\n",
            "dense (Dense)                   (None, 128, 64)      640         permute[0][0]                    \n",
            "__________________________________________________________________________________________________\n",
            "tf.nn.gelu (TFOpLambda)         (None, 128, 64)      0           dense[0][0]                      \n",
            "__________________________________________________________________________________________________\n",
            "dense_1 (Dense)                 (None, 128, 9)       585         tf.nn.gelu[0][0]                 \n",
            "__________________________________________________________________________________________________\n",
            "dropout (Dropout)               (None, 128, 9)       0           dense_1[0][0]                    \n",
            "__________________________________________________________________________________________________\n",
            "permute_1 (Permute)             (None, 9, 128)       0           dropout[0][0]                    \n",
            "__________________________________________________________________________________________________\n",
            "add (Add)                       (None, 9, 128)       0           reshape[0][0]                    \n",
            "                                                                 permute_1[0][0]                  \n",
            "__________________________________________________________________________________________________\n",
            "layer_normalization_1 (LayerNor (None, 9, 128)       256         add[0][0]                        \n",
            "__________________________________________________________________________________________________\n",
            "dense_2 (Dense)                 (None, 9, 128)       16512       layer_normalization_1[0][0]      \n",
            "__________________________________________________________________________________________________\n",
            "tf.nn.gelu_1 (TFOpLambda)       (None, 9, 128)       0           dense_2[0][0]                    \n",
            "__________________________________________________________________________________________________\n",
            "dense_3 (Dense)                 (None, 9, 128)       16512       tf.nn.gelu_1[0][0]               \n",
            "__________________________________________________________________________________________________\n",
            "dropout_1 (Dropout)             (None, 9, 128)       0           dense_3[0][0]                    \n",
            "__________________________________________________________________________________________________\n",
            "add_1 (Add)                     (None, 9, 128)       0           dropout_1[0][0]                  \n",
            "                                                                 add[0][0]                        \n",
            "__________________________________________________________________________________________________\n",
            "layer_normalization_2 (LayerNor (None, 9, 128)       256         add_1[0][0]                      \n",
            "__________________________________________________________________________________________________\n",
            "permute_2 (Permute)             (None, 128, 9)       0           layer_normalization_2[0][0]      \n",
            "__________________________________________________________________________________________________\n",
            "dense_4 (Dense)                 (None, 128, 64)      640         permute_2[0][0]                  \n",
            "__________________________________________________________________________________________________\n",
            "tf.nn.gelu_2 (TFOpLambda)       (None, 128, 64)      0           dense_4[0][0]                    \n",
            "__________________________________________________________________________________________________\n",
            "dense_5 (Dense)                 (None, 128, 9)       585         tf.nn.gelu_2[0][0]               \n",
            "__________________________________________________________________________________________________\n",
            "dropout_2 (Dropout)             (None, 128, 9)       0           dense_5[0][0]                    \n",
            "__________________________________________________________________________________________________\n",
            "permute_3 (Permute)             (None, 9, 128)       0           dropout_2[0][0]                  \n",
            "__________________________________________________________________________________________________\n",
            "add_2 (Add)                     (None, 9, 128)       0           add_1[0][0]                      \n",
            "                                                                 permute_3[0][0]                  \n",
            "__________________________________________________________________________________________________\n",
            "layer_normalization_3 (LayerNor (None, 9, 128)       256         add_2[0][0]                      \n",
            "__________________________________________________________________________________________________\n",
            "dense_6 (Dense)                 (None, 9, 128)       16512       layer_normalization_3[0][0]      \n",
            "__________________________________________________________________________________________________\n",
            "tf.nn.gelu_3 (TFOpLambda)       (None, 9, 128)       0           dense_6[0][0]                    \n",
            "__________________________________________________________________________________________________\n",
            "dense_7 (Dense)                 (None, 9, 128)       16512       tf.nn.gelu_3[0][0]               \n",
            "__________________________________________________________________________________________________\n",
            "dropout_3 (Dropout)             (None, 9, 128)       0           dense_7[0][0]                    \n",
            "__________________________________________________________________________________________________\n",
            "add_3 (Add)                     (None, 9, 128)       0           dropout_3[0][0]                  \n",
            "                                                                 add_2[0][0]                      \n",
            "__________________________________________________________________________________________________\n",
            "layer_normalization_4 (LayerNor (None, 9, 128)       256         add_3[0][0]                      \n",
            "__________________________________________________________________________________________________\n",
            "permute_4 (Permute)             (None, 128, 9)       0           layer_normalization_4[0][0]      \n",
            "__________________________________________________________________________________________________\n",
            "dense_8 (Dense)                 (None, 128, 64)      640         permute_4[0][0]                  \n",
            "__________________________________________________________________________________________________\n",
            "tf.nn.gelu_4 (TFOpLambda)       (None, 128, 64)      0           dense_8[0][0]                    \n",
            "__________________________________________________________________________________________________\n",
            "dense_9 (Dense)                 (None, 128, 9)       585         tf.nn.gelu_4[0][0]               \n",
            "__________________________________________________________________________________________________\n",
            "dropout_4 (Dropout)             (None, 128, 9)       0           dense_9[0][0]                    \n",
            "__________________________________________________________________________________________________\n",
            "permute_5 (Permute)             (None, 9, 128)       0           dropout_4[0][0]                  \n",
            "__________________________________________________________________________________________________\n",
            "add_4 (Add)                     (None, 9, 128)       0           add_3[0][0]                      \n",
            "                                                                 permute_5[0][0]                  \n",
            "__________________________________________________________________________________________________\n",
            "layer_normalization_5 (LayerNor (None, 9, 128)       256         add_4[0][0]                      \n",
            "__________________________________________________________________________________________________\n",
            "dense_10 (Dense)                (None, 9, 128)       16512       layer_normalization_5[0][0]      \n",
            "__________________________________________________________________________________________________\n",
            "tf.nn.gelu_5 (TFOpLambda)       (None, 9, 128)       0           dense_10[0][0]                   \n",
            "__________________________________________________________________________________________________\n",
            "dense_11 (Dense)                (None, 9, 128)       16512       tf.nn.gelu_5[0][0]               \n",
            "__________________________________________________________________________________________________\n",
            "dropout_5 (Dropout)             (None, 9, 128)       0           dense_11[0][0]                   \n",
            "__________________________________________________________________________________________________\n",
            "add_5 (Add)                     (None, 9, 128)       0           dropout_5[0][0]                  \n",
            "                                                                 add_4[0][0]                      \n",
            "__________________________________________________________________________________________________\n",
            "layer_normalization_6 (LayerNor (None, 9, 128)       256         add_5[0][0]                      \n",
            "__________________________________________________________________________________________________\n",
            "permute_6 (Permute)             (None, 128, 9)       0           layer_normalization_6[0][0]      \n",
            "__________________________________________________________________________________________________\n",
            "dense_12 (Dense)                (None, 128, 64)      640         permute_6[0][0]                  \n",
            "__________________________________________________________________________________________________\n",
            "tf.nn.gelu_6 (TFOpLambda)       (None, 128, 64)      0           dense_12[0][0]                   \n",
            "__________________________________________________________________________________________________\n",
            "dense_13 (Dense)                (None, 128, 9)       585         tf.nn.gelu_6[0][0]               \n",
            "__________________________________________________________________________________________________\n",
            "dropout_6 (Dropout)             (None, 128, 9)       0           dense_13[0][0]                   \n",
            "__________________________________________________________________________________________________\n",
            "permute_7 (Permute)             (None, 9, 128)       0           dropout_6[0][0]                  \n",
            "__________________________________________________________________________________________________\n",
            "add_6 (Add)                     (None, 9, 128)       0           add_5[0][0]                      \n",
            "                                                                 permute_7[0][0]                  \n",
            "__________________________________________________________________________________________________\n",
            "layer_normalization_7 (LayerNor (None, 9, 128)       256         add_6[0][0]                      \n",
            "__________________________________________________________________________________________________\n",
            "dense_14 (Dense)                (None, 9, 128)       16512       layer_normalization_7[0][0]      \n",
            "__________________________________________________________________________________________________\n",
            "tf.nn.gelu_7 (TFOpLambda)       (None, 9, 128)       0           dense_14[0][0]                   \n",
            "__________________________________________________________________________________________________\n",
            "dense_15 (Dense)                (None, 9, 128)       16512       tf.nn.gelu_7[0][0]               \n",
            "__________________________________________________________________________________________________\n",
            "dropout_7 (Dropout)             (None, 9, 128)       0           dense_15[0][0]                   \n",
            "__________________________________________________________________________________________________\n",
            "add_7 (Add)                     (None, 9, 128)       0           dropout_7[0][0]                  \n",
            "                                                                 add_6[0][0]                      \n",
            "__________________________________________________________________________________________________\n",
            "layer_normalization_8 (LayerNor (None, 9, 128)       256         add_7[0][0]                      \n",
            "__________________________________________________________________________________________________\n",
            "global_average_pooling1d (Globa (None, 128)          0           layer_normalization_8[0][0]      \n",
            "__________________________________________________________________________________________________\n",
            "dense_16 (Dense)                (None, 10)           1290        global_average_pooling1d[0][0]   \n",
            "==================================================================================================\n",
            "Total params: 171,822\n",
            "Trainable params: 171,822\n",
            "Non-trainable params: 0\n",
            "__________________________________________________________________________________________________\n"
          ],
          "name": "stdout"
        }
      ]
    },
    {
      "cell_type": "code",
      "metadata": {
        "id": "vfSK2VwFvBc8"
      },
      "source": [
        ""
      ],
      "execution_count": null,
      "outputs": []
    }
  ]
}